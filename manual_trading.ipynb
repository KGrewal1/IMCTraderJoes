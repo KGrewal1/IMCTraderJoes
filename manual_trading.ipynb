{
 "cells": [
  {
   "cell_type": "code",
   "execution_count": 31,
   "metadata": {},
   "outputs": [
    {
     "name": "stdout",
     "output_type": "stream",
     "text": [
      "('pizza', 'pizza', 'pizza', 'pizza') 1.0050000000000001\n",
      "('pizza', 'pizza', 'shell', 'pizza') 1.0100250000000002\n",
      "('pizza', 'wasabi', 'snowball', 'pizza') 1.0436925000000001\n"
     ]
    }
   ],
   "source": [
    "from itertools import product\n",
    "currencies = ['pizza', 'wasabi', 'snowball', 'shell']\n",
    "pos_dict = {'pizza':0, 'wasabi':1, 'snowball':2, 'shell':3}\n",
    "weights_array = [[1, 0.5, 1.45, 0.75],\n",
    "                 [1.95, 1, 3.1, 1.49],\n",
    "                 [0.67, 0.31, 1, 0.48],\n",
    "                 [1.34, 0.64, 1.98, 1]]\n",
    "routes = list(product(currencies, repeat = 4))\n",
    "best_weight = 0\n",
    "best_route = None\n",
    "start_end = 'shell'\n",
    "for route in routes:\n",
    "    weight = 1\n",
    "    weight = weight * weights_array[pos_dict[start_end]][pos_dict[route[0]]]\n",
    "    for no, stop in enumerate(route[1:]):\n",
    "        weight = weight * weights_array[pos_dict[route[no]]][pos_dict[stop]]\n",
    "    weight = weight * weights_array[pos_dict[route[-1]]][pos_dict[start_end]]\n",
    "    if weight>best_weight:\n",
    "        best_weight=weight\n",
    "        best_route = route\n",
    "        print(route, weight)\n"
   ]
  }
 ],
 "metadata": {
  "kernelspec": {
   "display_name": "gen3",
   "language": "python",
   "name": "python3"
  },
  "language_info": {
   "codemirror_mode": {
    "name": "ipython",
    "version": 3
   },
   "file_extension": ".py",
   "mimetype": "text/x-python",
   "name": "python",
   "nbconvert_exporter": "python",
   "pygments_lexer": "ipython3",
   "version": "3.9.12"
  },
  "orig_nbformat": 4
 },
 "nbformat": 4,
 "nbformat_minor": 2
}
