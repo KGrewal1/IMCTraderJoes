{
 "cells": [
  {
   "cell_type": "code",
   "execution_count": 2,
   "id": "1c6351c4",
   "metadata": {},
   "outputs": [],
   "source": [
    "import numpy as np\n",
    "import os\n",
    "import re\n",
    "import matplotlib.pyplot as plt\n",
    "import glob\n",
    "import pandas as pd"
   ]
  },
  {
   "cell_type": "code",
   "execution_count": 59,
   "id": "9ccb6cb7",
   "metadata": {},
   "outputs": [
    {
     "name": "stdout",
     "output_type": "stream",
     "text": [
      "Sandbox logs:\n",
      "\n",
      "START RequestId: d705ca66-ad61-4b63-8cdc-cbdb086c934d Version: $LATEST\n",
      "\n",
      "Spread:  7 MM BUY PEARLS 5.0x 9999 position: 0 MM SELL PEARLS 5.0x 10004 position: 0\n",
      "\n",
      "END RequestId: d705ca66-ad61-4b63-8cdc-cbdb086c934d\n",
      "\n",
      "REPORT RequestId: d705ca66-ad61-4b63-8cdc-cbdb086c934d\tDuration: 15.36 ms\tBilled Duration: 16 ms\tMemory Size: 128 MB\tMax Memory Used: 65 MB\tInit Duration: 543.33 ms\t\n",
      "\n",
      "\n",
      "\n",
      "\n",
      "\n",
      "\n",
      "\n",
      "Submission logs:\n",
      "\n",
      "     timestamp  Position MM/order Size_available       Price\n",
      "1          100      -1.0     SELL            1.0     10002.0\n",
      "2          200      -1.0       MM        5.0/4.0  9997/10003\n",
      "3          300      -2.0       MM        5.0/4.0  9996/10004\n",
      "4          400      -2.0       MM        5.0/4.0  9999/10003\n",
      "5          500      -2.0       MM        5.0/4.0  9999/10003\n",
      "..         ...       ...      ...            ...         ...\n",
      "995      99500       0.0      BUY            3.0      9998.0\n",
      "996      99600       0.0       MM        5.0/5.0  9996/10004\n",
      "997      99700       0.0       MM        5.0/5.0  9996/10004\n",
      "998      99800       2.0       MM        4.0/5.0  9997/10001\n",
      "999      99900       2.0       MM        4.0/5.0  9999/10003\n",
      "\n",
      "[940 rows x 5 columns]\n"
     ]
    }
   ],
   "source": [
    "#importing data from txt\n",
    "#all outputs from log should be on same line (i.e. every line starts with a time stamp)\n",
    "dirc = os.getcwd()\n",
    "data = pd.DataFrame()\n",
    "filenames = glob.glob(dirc+'/*.txt')\n",
    "positions = []\n",
    "mm_order = []\n",
    "size = []\n",
    "timestamp = []\n",
    "price = []\n",
    "for file in filenames:\n",
    "    f = open(file,\"r\")\n",
    "    for line in f:\n",
    "        #removes first few lines on text\n",
    "        if re.search(r'(^\\d*0)', line) == None:\n",
    "            print(line)\n",
    "            continue\n",
    "        try:\n",
    "            timestamp.append(int(re.search(r'(^\\d*0)', line).group(1)))\n",
    "        except:\n",
    "            print('failed')\n",
    "            \n",
    "        if 'position: ' in line:\n",
    "            positions.append(int(re.search(r'position: (-?\\d*)', line).group(1)))\n",
    "            if 'MM' in line:\n",
    "                mm_order.append('MM')\n",
    "                size.append(str(re.findall(r'(\\d*.?\\d*)x', line)[0])+'/'+str(re.findall(r'(\\d*.?\\d*)x', line)[1]))\n",
    "                price.append(str(re.findall(r'x (\\d*)', line)[0])+'/'+str(re.findall(r'x (\\d*)', line)[1]))\n",
    "            elif 'MISSED' in line:\n",
    "                mm_order.append('MISSED')\n",
    "                size.append(float(re.search(r'(\\d*.?\\d*)x', line).group(1)))\n",
    "                price.append(float(re.search(r'x (\\d*)', line).group(1)))\n",
    "            else:\n",
    "                mm_order.append(re.search(r'(SELL|BUY)', line).group(1))\n",
    "                size.append(float(re.search(r'(\\d*.?\\d*)x', line).group(1)))\n",
    "                price.append(float(re.search(r'x (\\d*)', line).group(1)))\n",
    "        else:\n",
    "            positions.append(np.nan)\n",
    "            mm_order.append(np.nan)\n",
    "            size.append(np.nan)\n",
    "            price.append(np.nan)\n",
    "\n",
    "data['timestamp'] = timestamp\n",
    "data['Position'] = positions\n",
    "data['MM/order'] = mm_order\n",
    "data['Size_available'] = size\n",
    "data['Price'] = price\n",
    "data2 = data.dropna()\n",
    "\n",
    "print(data2)\n",
    "#print(data)\n",
    "#print(data.describe())"
   ]
  },
  {
   "cell_type": "code",
   "execution_count": 70,
   "id": "332a2c53",
   "metadata": {},
   "outputs": [
    {
     "name": "stdout",
     "output_type": "stream",
     "text": [
      "     timestamp  Position MM/order Size_available       Price  Pos_T-1  Change\n",
      "1          100      -1.0     SELL            1.0     10002.0      0.0    -1.0\n",
      "2          200      -1.0       MM        5.0/4.0  9997/10003     -1.0     0.0\n",
      "3          300      -2.0       MM        5.0/4.0  9996/10004     -1.0    -1.0\n",
      "4          400      -2.0       MM        5.0/4.0  9999/10003     -2.0     0.0\n",
      "5          500      -2.0       MM        5.0/4.0  9999/10003     -2.0     0.0\n",
      "..         ...       ...      ...            ...         ...      ...     ...\n",
      "995      99500       0.0      BUY            3.0      9998.0     -3.0     3.0\n",
      "996      99600       0.0       MM        5.0/5.0  9996/10004      0.0     0.0\n",
      "997      99700       0.0       MM        5.0/5.0  9996/10004      0.0     0.0\n",
      "998      99800       2.0       MM        4.0/5.0  9997/10001      0.0     2.0\n",
      "999      99900       2.0       MM        4.0/5.0  9999/10003      2.0     0.0\n",
      "\n",
      "[940 rows x 7 columns]\n"
     ]
    },
    {
     "name": "stderr",
     "output_type": "stream",
     "text": [
      "C:\\Users\\tommy\\AppData\\Local\\Temp\\ipykernel_7624\\1323292632.py:1: SettingWithCopyWarning: \n",
      "A value is trying to be set on a copy of a slice from a DataFrame.\n",
      "Try using .loc[row_indexer,col_indexer] = value instead\n",
      "\n",
      "See the caveats in the documentation: https://pandas.pydata.org/pandas-docs/stable/user_guide/indexing.html#returning-a-view-versus-a-copy\n",
      "  data2['Pos_T-1'] = data2['Position'].shift()\n",
      "C:\\Users\\tommy\\AppData\\Local\\Temp\\ipykernel_7624\\1323292632.py:2: SettingWithCopyWarning: \n",
      "A value is trying to be set on a copy of a slice from a DataFrame\n",
      "\n",
      "See the caveats in the documentation: https://pandas.pydata.org/pandas-docs/stable/user_guide/indexing.html#returning-a-view-versus-a-copy\n",
      "  data2['Pos_T-1'][1] = 0\n",
      "C:\\Users\\tommy\\AppData\\Local\\Temp\\ipykernel_7624\\1323292632.py:3: SettingWithCopyWarning: \n",
      "A value is trying to be set on a copy of a slice from a DataFrame.\n",
      "Try using .loc[row_indexer,col_indexer] = value instead\n",
      "\n",
      "See the caveats in the documentation: https://pandas.pydata.org/pandas-docs/stable/user_guide/indexing.html#returning-a-view-versus-a-copy\n",
      "  data2['Change'] = data2['Position'] - data2['Pos_T-1']\n"
     ]
    }
   ],
   "source": [
    "data2['Pos_T-1'] = data2['Position'].shift()\n",
    "data2['Pos_T-1'][1] = 0\n",
    "data2['Change'] = data2['Position'] - data2['Pos_T-1']\n",
    "print(data2)"
   ]
  }
 ],
 "metadata": {
  "kernelspec": {
   "display_name": "Python 3 (ipykernel)",
   "language": "python",
   "name": "python3"
  },
  "language_info": {
   "codemirror_mode": {
    "name": "ipython",
    "version": 3
   },
   "file_extension": ".py",
   "mimetype": "text/x-python",
   "name": "python",
   "nbconvert_exporter": "python",
   "pygments_lexer": "ipython3",
   "version": "3.9.13"
  }
 },
 "nbformat": 4,
 "nbformat_minor": 5
}
